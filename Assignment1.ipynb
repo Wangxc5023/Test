{
 "cells": [
  {
   "cell_type": "markdown",
   "metadata": {},
   "source": [
    "# 1. Flowchart \n",
    "\n",
    "Write a function `Print_values` with arguments `a`, `b`, and `c` to reflect the following flowchart. Here the purple parallelogram operator on a list `[x, y, z]` is to compute and print `x+y-10z`. Try your output with some random `a`, `b`, and `c` values. Report your output when `a = 10, b = 5, c = 1`.\n",
    "\n",
    "<img src=\"figs/flowchart_a1.png\" alt=\"drawing\" width=\"500\"/>"
   ]
  },
  {
   "cell_type": "code",
   "execution_count": 13,
   "metadata": {},
   "outputs": [
    {
     "name": "stdout",
     "output_type": "stream",
     "text": [
      "5\n",
      "-16\n",
      "246\n",
      "2382\n"
     ]
    }
   ],
   "source": [
    "def Print_values(a, b, c):\n",
    "    if a > b:\n",
    "        if b > c:\n",
    "            purple_parallelogram_operator(a, b, c)\n",
    "        elif a > c:\n",
    "            purple_parallelogram_operator(a, c, b)\n",
    "        else:\n",
    "            purple_parallelogram_operator(c, a, b)\n",
    "    elif not b > c:\n",
    "        purple_parallelogram_operator(c, b, a)\n",
    "\n",
    "def purple_parallelogram_operator(x, y, z):\n",
    "    print( x + y - 10 * z )\n",
    "\n",
    "Print_values(10, 5, 1) # branch 4\n",
    "Print_values(2, 2, 2) # branch 1\n",
    "Print_values(144, 22, -8) # branch 3\n",
    "Print_values(5566, 875, 5566) # branch  2"
   ]
  },
  {
   "cell_type": "markdown",
   "metadata": {},
   "source": [
    "# 2. Continuous ceiling function\n",
    "\n",
    "Given a list with `N` positive integers. For every element `x` of the list, find the value of continuous ceiling function defined as `F(x) = F(ceil(x/3)) + 2x`, where `F(1) = 1`. "
   ]
  },
  {
   "cell_type": "code",
   "execution_count": 7,
   "metadata": {},
   "outputs": [
    {
     "name": "stdout",
     "output_type": "stream",
     "text": [
      "Input list:  [1, 2, 3, 4, 5, 100]\n",
      "Output list:  [1, 5, 7, 13, 15, 305]\n"
     ]
    }
   ],
   "source": [
    "import math\n",
    "\n",
    "def memoized_ceiling_function(x):\n",
    "    if x == 1:\n",
    "        return 1\n",
    "    return memoized_ceiling_function(math.ceil(x/3)) + 2*x\n",
    "\n",
    "def calculate_F_values(numbers):\n",
    "    results = []\n",
    "    for number in numbers:\n",
    "        results.append(memoized_ceiling_function(number))\n",
    "    return results\n",
    "\n",
    "numbers = [1, 2, 3, 4, 5, 100]  # Example list of positive integers\n",
    "F_values = calculate_F_values(numbers)\n",
    "print(\"Input list: \",numbers)\n",
    "print(\"Output list: \",F_values) "
   ]
  },
  {
   "cell_type": "markdown",
   "metadata": {},
   "source": [
    "# 3. Dice rolling\n",
    "\n",
    "**3.1** Given `10` dice each with `6` faces, numbered from `1` to `6`. Write a function `Find_number_of_ways` to find the number of ways to get sum `x`, defined as the sum of values on each face when all the dice are thrown.\n",
    "\n",
    "**3.2** Count the number of ways for any `x` from `10` to `60`, assign the number of ways to a list called `Number_of_ways`, so which `x` yields the maximum of `Number_of_ways`?\n"
   ]
  },
  {
   "cell_type": "code",
   "execution_count": 17,
   "metadata": {},
   "outputs": [
    {
     "name": "stdout",
     "output_type": "stream",
     "text": [
      "[1, 10, 55, 220, 715, 2002, 4995, 11340, 23760, 46420, 85228, 147940, 243925, 383470, 576565, 831204, 1151370, 1535040, 1972630, 2446300, 2930455, 3393610, 3801535, 4121260, 4325310, 4395456, 4325310, 4121260, 3801535, 3393610, 2930455, 2446300, 1972630, 1535040, 1151370, 831204, 576565, 383470, 243925, 147940, 85228, 46420, 23760, 11340, 4995, 2002, 715, 220, 55, 10, 1]\n",
      "The sum that yields the maximum number of ways is 35 with 4395456 ways.\n"
     ]
    }
   ],
   "source": [
    "def Find_number_of_ways(target_sum):\n",
    "    dp = [[0] * (target_sum) for _ in range(10)] # dim: 10 * target_sum\n",
    "    for i in range(6):    # 一个筛子时，只能是 1-6\n",
    "        dp[0][i] = 1\n",
    "\n",
    "    for i in range(1, 10):\n",
    "        for j in range(1, target_sum):\n",
    "            dp[i][j] = 0\n",
    "            for k in range(1, min(6, j)+1):\n",
    "                dp[i][j] += dp[i - 1][j - k]\n",
    "\n",
    "    return dp[-1][target_sum-1]\n",
    "\n",
    "def find_max_number_of_ways():\n",
    "    # 或者拿 dp[-1]\n",
    "    number_of_ways = [Find_number_of_ways(x) for x in range(10, 61)]\n",
    "    print(number_of_ways)\n",
    "    max_ways = max(number_of_ways)\n",
    "    max_sum = number_of_ways.index(max_ways) + 10\n",
    "    return max_sum, max_ways\n",
    "\n",
    "max_sum, max_ways = find_max_number_of_ways()\n",
    "print(f\"The sum that yields the maximum number of ways is {max_sum} with {max_ways} ways.\")"
   ]
  },
  {
   "cell_type": "markdown",
   "metadata": {},
   "source": [
    "# 4. Dynamic programming\n",
    "\n",
    "**4.1 [5 points]** Write a function `Random_integer` to fill an array of `N` elements by randomly selecting integers from `0` to `10`.\n",
    "\n",
    "**4.2 [15 points]** Write a function `Sum_averages` to compute the sum of the average of all subsets of the array. For example, given an array of `[1, 2, 3]`, you `Sum_averages` function should compute the sum of: average of `[1]`, average of `[2]`, average of `[3]`,  average of `[1, 2]`, average of `[1, 3]`, average of `[2, 3]`, and average of `[1, 2, 3]`.  \n",
    "\n",
    "**4.3 [5 points]** Call `Sum_averages` with `N` increasing from `1` to `100`, assign the output to a list called `Total_sum_averages`. Plot `Total_sum_averages`, describe what you see.\n"
   ]
  },
  {
   "cell_type": "code",
   "execution_count": 6,
   "metadata": {},
   "outputs": [
    {
     "name": "stdout",
     "output_type": "stream",
     "text": [
      "[1, 10, 5, 9, 3, 0, 8, 2, 9, 5]\n",
      "142.6\n"
     ]
    },
    {
     "data": {
      "image/png": "[encoded data removed]",
      "text/plain": [
       "<Figure size 640x480 with 1 Axes>"
      ]
     },
     "metadata": {},
     "output_type": "display_data"
    }
   ],
   "source": [
    "import random\n",
    "import math\n",
    "import matplotlib.pyplot as plt\n",
    "\n",
    "# 4.1\n",
    "def Random_integer(N):\n",
    "    return [random.randint(0, 10) for _ in range(N)]\n",
    "\n",
    "print(Random_integer(10))\n",
    "\n",
    "# 4.2\n",
    "def Sum_averages(arr): \n",
    "    sum_value = 0\n",
    "    for i in range(len(arr)):\n",
    "        binomial_coefficient = math.comb(len(arr)-1, i)\n",
    "        sum_value += binomial_coefficient / (i + 1)\n",
    "    return sum(arr) * sum_value\n",
    "\n",
    "arr = [1, 2, 6, 6, 8]\n",
    "print(Sum_averages(arr))\n",
    "\n",
    "# 4.3\n",
    "Total_sum_averages = []\n",
    "# Calculate the sum of averages for each N from 1 to 100\n",
    "for N in range(1, 101):\n",
    "    arr = Random_integer(N)\n",
    "    Total_sum_averages.append(Sum_averages(arr))\n",
    "\n",
    "# Plot the Total_sum_averages\n",
    "plt.plot(range(1, 101), Total_sum_averages)\n",
    "plt.xlabel('N')\n",
    "plt.ylabel('Total Sum of Averages')\n",
    "plt.title('Total Sum of Averages for N from 1 to 100')\n",
    "plt.show()"
   ]
  },
  {
   "cell_type": "markdown",
   "metadata": {},
   "source": [
    "# 5. Path counting\n",
    "\n",
    "**5.1 [5 points]** Create a matrix with `N` rows and `M` columns, fill the right-bottom corner and top-left corner cells with `1`, and randomly fill the rest of matrix with integer `0` or `1`.\n",
    "\n",
    "**5.2 [25 points]** Consider a cell marked with `0` as a blockage or dead-end, and a cell marked with `1` is good to go. Write a function `Count_path` to count the total number of paths to reach the right-bottom corner cell from the top-left corner cell. \n",
    "\n",
    "**Notice:** for a given cell, you are **only allowed** to move either rightward or downward.\n",
    "\n",
    "**5.3 [5 points]** Let `N = 10, M = 8`, run `Count_path` for `1000` times, each time the matrix (except the right-bottom corner and top-left corner cells, which remain being `1`) is re-filled with integer `0` or `1` randomly, report the mean of total number of paths from the `1000` runs."
   ]
  },
  {
   "cell_type": "code",
   "execution_count": 37,
   "metadata": {},
   "outputs": [
    {
     "name": "stdout",
     "output_type": "stream",
     "text": [
      "[[1 1 1 0 1 0 1 1]\n",
      " [1 0 1 1 1 1 1 0]\n",
      " [0 0 0 1 0 1 0 1]\n",
      " [1 0 0 1 1 0 1 0]\n",
      " [0 0 1 1 1 1 1 1]]\n",
      "The Count_path value of the matrix above is 2.0\n",
      "The mean of Count_path for matrixes with size(10,8) from the 1000 runs is\n",
      " 0.633\n"
     ]
    }
   ],
   "source": [
    "# 5. Path counting\n",
    "# 5.1 Create a matrix\n",
    "import numpy as np\n",
    "\n",
    "def generate_matrix(N, M):\n",
    "    # Without numpy\n",
    "    arr = [[random.randint(0,1)] * (M) for _ in range(N)]\n",
    "    arr[0][0]=1\n",
    "    arr[N-1][M-1]=1\n",
    "\n",
    "    # With numpy\n",
    "    arr=np.random.randint(2,size=(N,M))\n",
    "    arr[0,0]=1\n",
    "    arr[N-1,M-1]=1\n",
    "    return arr\n",
    "\n",
    "# 5.2 Count_path function with numpy\n",
    "def Count_path(matrix):\n",
    "    N, M = matrix.shape[0], matrix.shape[1]\n",
    "    count = np.zeros((N,M))\n",
    "    pos_row = np.where(matrix[0] == 0)[0] # 第一行中第一个0的位置,找不到则为M\n",
    "    pos_col = np.where(matrix[:,0] == 0)[0] # 列\n",
    "    pos_row = pos_row[0] if pos_row.size>0 else M\n",
    "    pos_col = pos_col[0] if pos_col.size>0 else N\n",
    "    count[0,:pos_row] = 1\n",
    "    count[:pos_col,0] = 1\n",
    "    for i in range(1, N):\n",
    "        for j in range(1, M):\n",
    "            if matrix[i, j] == 0:\n",
    "                count[i, j] = 0\n",
    "            else:\n",
    "                count[i, j] = count[i-1, j] + count[i, j-1]\n",
    "    return count[-1][-1]\n",
    "\n",
    "arr = generate_matrix(N=5, M=8)\n",
    "print(arr)\n",
    "print(\"The Count_path value of the matrix above is\",Count_path(arr))\n",
    "\n",
    "# 5.3 Count_path function\n",
    "# Calculate the mean pathway number for 1000 runs by refilling new random matrix\n",
    "sum_path=0\n",
    "for k in range(1000):\n",
    "    sum_path += Count_path(generate_matrix(N=10, M=8))\n",
    "print(\"The mean of Count_path for matrixes with size(10,8) from the 1000 runs is\\n\", sum_path/1000)    "
   ]
  }
 ],
 "metadata": {
  "kernelspec": {
   "display_name": "base",
   "language": "python",
   "name": "python3"
  },
  "language_info": {
   "codemirror_mode": {
    "name": "ipython",
    "version": 3
   },
   "file_extension": ".py",
   "mimetype": "text/x-python",
   "name": "python",
   "nbconvert_exporter": "python",
   "pygments_lexer": "ipython3",
   "version": "3.12.4"
  }
 },
 "nbformat": 4,
 "nbformat_minor": 2
}
